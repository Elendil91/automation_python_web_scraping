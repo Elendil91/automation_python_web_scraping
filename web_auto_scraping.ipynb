{
 "cells": [
  {
   "cell_type": "markdown",
   "metadata": {},
   "source": [
    "Web automation & Web Scraping:\n",
    "\n",
    ".- XPath - syntax:\n",
    "\n",
    "    - Easily key to learn web Scraping with selenium\n",
    "    - Stands for xml path lenguage\n",
    "    - Is a query lenguage for selecting nodes from xml document but also in html pages.\n",
    "\n",
    "    syntax: \n",
    "    - //tagName and then write the element name.\n",
    "      - //tagName[] base on position \n",
    "      - //tagName[@attributeName=\"Value\"] specify attributes name like class id \n",
    "        - function: \n",
    "          - contains() will search for text included inside an element \n",
    "            - example: //tagName[contains(@attributeName,\"Value\")]\n",
    "              - with logical operators: //tagName[(expression 1) and (expression 2)]\n",
    "          - stars-with() will search for text at the beginning\n",
    "\n",
    ".- Testing xpath:\n",
    "   - https://scrapinghub.github.io/xpath-playground/\n",
    "     - input: \n",
    "       <html>\n",
    "         <head>\n",
    "           <title>My page title</title>\n",
    "         </head>\n",
    "         <body>\n",
    "           <h2>Welcome to my <a href=\"#\">page</a></h2>\n",
    "           <p>This is the first paragraph</p>\n",
    "           <!-- this is the end -->\n",
    "         </body>\n",
    "        </html>\n",
    "     - xpath: //h2\n",
    "     - result: <h2>Welcome to my <a href=\"#\">page</a></h2>\n",
    "     - xpath: //h2/text()\n",
    "     - result: Welcome to my\n",
    "\n",
    ".- Special characters:\n",
    "    - /  select the children from the node set on the left side of this characters.\n",
    "    - // Specifies that the matching node set should be located at any level within the document\n",
    "    - //. Specifies the current context should be used (refers to present node)\n",
    "    - //.. refers to parent node)\n",
    "\n"
   ]
  }
 ],
 "metadata": {
  "language_info": {
   "name": "python"
  },
  "orig_nbformat": 4
 },
 "nbformat": 4,
 "nbformat_minor": 2
}
